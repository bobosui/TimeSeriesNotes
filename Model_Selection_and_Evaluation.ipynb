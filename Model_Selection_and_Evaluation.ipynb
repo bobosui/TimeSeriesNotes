{
 "cells": [
  {
   "cell_type": "markdown",
   "metadata": {},
   "source": [
    "# Another look at forecast-accuracy metrics for intermitten demand, Rob. J. Hyndman\n",
    "\n",
    "## Jak można generować przewidzenia?\n",
    "tutaj: **przewidzenie** - jedna konkretna przewidziana przez model wartość\n",
    "\n",
    "[obrazek1]\n",
    "intuicyjnie: na podstawie dotychczasowych danych usiłujemy przewidzieć h kolejnych wartości\n",
    "\n",
    "[obrazek2]\n",
    "intuicyjnie: przewidujemy o h późniejszą wartość (jadną!) na podstawie wszystkich poznanych do tej pory. To oczywiście możemy zrobić $m$ razy.\n",
    "\n",
    "**Teza:** ale zawsze musimy czekać aż nam dojdą kolejne wartości\n",
    "\n",
    "## Na którym splicie liczyć błąd?\n",
    "Albo: jak robił to autor publikacji, by wygenerować tabelkę.\n",
    "\n",
    "1. in-sample\n",
    "[obrazek3]\n",
    "Uwaga: używamy do generowania podejścia drugiego\n",
    "\n",
    "2. out-of-sample\n",
    "[obrazek4]\n",
    "Uwaga: używamy do generowania podejścia pierwszego\n",
    "\n",
    "**Dyskusja:** czy to ma sens? Czy można inaczej?\n",
    "\n",
    "\n",
    "## Błędy (w sensie metryki) \n",
    "\n",
    "[obrazek z danymi]\n",
    "\n",
    "[tabelka z zaznaczonymi grupami błędów, problematycznymi miejscami]\n",
    "\n",
    "---\n",
    "**Modele (wtręt):**\n",
    "* Mean - średnia ze wszystkich dotychczas poznanych wartości\n",
    "* Naive - zwraca ostatnią widzianą wartość\n",
    "* SES - Simple Exponential Smoothing (ktoś słyszał? ktoś zna?)\n",
    "* Croston - fancy metoda Crostona do tego typu szeregów\n",
    "---\n",
    "\n",
    "Autor wyróżnia 4 rodzaje błędów:\n",
    "* Scale-dependent errors\n",
    "* Percentage errors\n",
    "* Relative errors\n",
    "* Scale-free errors\n",
    "\n",
    "### Scale-dependent errors\n",
    "\n",
    "Nech $Y_t$ - t-ta wartość, $F_t$ - modelu przewidzenie t-tej wartości. Wprowadźmy błąd $e_t = Y_t - F_t$. Wartość $e_t$ będzie mieć tę samą skalę co dane.\n",
    "Przykład: [bleble]\n",
    "Skoro $e_t$ jest zależne od skali danych, to oparte na nim błędy także będą zależne od skali.\n",
    "\n",
    "* Mean Absolute Error (**MAE**) = mean$(|e_t|)$\n",
    "* Geometric Mean Absolute Error (**GMAE**) = gmean$(|e_t|)$\n",
    "* Mean Square Error (**MSE**) = mean$(e_t^2)$\n",
    "\n",
    "**Wady:**\n",
    "Zależność od skali powoduje, że te miary błędu nie nadają się do porównywania metod pomiędzy różnymi szeregami\n",
    "\n",
    "**Dyskusja:**\n",
    "A co jeżeli mamy ciąg stale rosnący? Skala będzie się zmieniać wewnątrz jednego szeregu! Zatem wtedy te miary nadawałyby się jedynie do ciągów niestacjonarnych?\n",
    "\n",
    "Porównanie co się dzieje, jak liczymy te miary na ciągu stacjonarnym i niestacjonarnym.\n",
    "\n",
    "Autor do pracy z pojedynszym \"time series\" poleca MAE, bo jest intuicyjne i szybko się liczy. Przytoczeni przez niego autorzy polecają GMAE, ale on się nie zgadza, gdy dane są *intermittent*"
   ]
  },
  {
   "cell_type": "code",
   "execution_count": null,
   "metadata": {
    "collapsed": true
   },
   "outputs": [],
   "source": []
  }
 ],
 "metadata": {
  "kernelspec": {
   "display_name": "Python 2",
   "language": "python",
   "name": "python2"
  },
  "language_info": {
   "codemirror_mode": {
    "name": "ipython",
    "version": 2
   },
   "file_extension": ".py",
   "mimetype": "text/x-python",
   "name": "python",
   "nbconvert_exporter": "python",
   "pygments_lexer": "ipython2",
   "version": "2.7.12"
  }
 },
 "nbformat": 4,
 "nbformat_minor": 0
}
