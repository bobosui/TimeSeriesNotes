{
 "cells": [
  {
   "cell_type": "markdown",
   "metadata": {},
   "source": [
    "# Czytanka 18 listopada: pytania"
   ]
  },
  {
   "cell_type": "markdown",
   "metadata": {},
   "source": [
    "## Model ARIMA\n",
    "\n",
    "Czy model ARIMA(2, 0, 0) jest ogólniejszy od ARIMA(1, 1, 0)?"
   ]
  },
  {
   "cell_type": "markdown",
   "metadata": {},
   "source": [
    "## ACF i PACF\n",
    "1. czym właściwie różnią się od siebie? jakiś konkretny przykład?\n",
    "2. zasady wyboru parametrów p i q są trochę niejasne.\n",
    "3. czy zastosowane logarytmowanie zmieni wynik? czy minimum dla problemu po logarytmowaniu szeregu jest w dalszym ciągu w tym samym miejscu?"
   ]
  },
  {
   "cell_type": "markdown",
   "metadata": {},
   "source": [
    "## Predicting engine reliability...\n",
    "1. co oznaczają dane na wejściu, a co na wyjsciu?\n",
    "2. powtórzyć doświadczenie z pracy."
   ]
  },
  {
   "cell_type": "markdown",
   "metadata": {},
   "source": [
    "## NARX i inne problemy\n",
    "1. na czym może polegać wykorzystanie teorii chaosu dla preprocessingu danych? czy problemy z grantu są chaotyczne? jak to badać? (http://www.fujitsu.com/global/about/resources/news/press-releases/2016/0216-01.html)\n",
    "2. czym jest sezonowość, jak się ma do cykliczności i jak robić _desezonalizację_\n",
    "3. podobno zbyt dokładne dane mogą powodować większe problemy w budowie modelu niż dane o mniejszych częstotliwościach odczytu. może opłaca się dane jakoś ośredniać? ale jak to robić?\n",
    "4. analogicznie, jak powinniśmy robić normalizację i dekorelację szeregów czasowych? uczenie dla sieci neuronowych działa zwykle lepiej, gdy dane są zdekorelowane. jednak co to oznacza w kontekście szeregów czasowych? dekorelacja po czasie (autodekorelacja) to jedno, a dekorelacja po czujnikach?\n",
    "2. jak można zainicjalizować model NARX by odpowiadał danemu modelowi ARIMA? czy możliwe jest takie zainicjalizowanie, a następnie adaptacyjne uczenie tak, by osiągnąć lepsze wyniki od początkowego modelu ARIMA?\n",
    "3. czy opisane w trakcie spotkania modele proste można traktować jako podejście do regularyzacji?\n",
    "4. "
   ]
  },
  {
   "cell_type": "code",
   "execution_count": null,
   "metadata": {
    "collapsed": true
   },
   "outputs": [],
   "source": []
  },
  {
   "cell_type": "code",
   "execution_count": null,
   "metadata": {
    "collapsed": true
   },
   "outputs": [],
   "source": []
  },
  {
   "cell_type": "code",
   "execution_count": null,
   "metadata": {
    "collapsed": true
   },
   "outputs": [],
   "source": []
  }
 ],
 "metadata": {
  "kernelspec": {
   "display_name": "Python [conda root]",
   "language": "python",
   "name": "conda-root-py"
  },
  "language_info": {
   "codemirror_mode": {
    "name": "ipython",
    "version": 2
   },
   "file_extension": ".py",
   "mimetype": "text/x-python",
   "name": "python",
   "nbconvert_exporter": "python",
   "pygments_lexer": "ipython2",
   "version": "2.7.12"
  }
 },
 "nbformat": 4,
 "nbformat_minor": 1
}
